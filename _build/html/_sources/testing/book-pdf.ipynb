{
 "cells": [
  {
   "cell_type": "code",
   "execution_count": 1,
   "metadata": {},
   "outputs": [],
   "source": [
    "import os\n",
    "import pypandoc"
   ]
  },
  {
   "cell_type": "code",
   "execution_count": 2,
   "metadata": {},
   "outputs": [],
   "source": [
    "# Define the input and output paths\n",
    "# Directory containing markdown files\n",
    "chapters_dir = 'D:/OneDrive/1_Consulting/Conservation Finance/confi/chapters'\n",
    "output_pdf = 'C:/Users/vance/Downloads/output.pdf'  # Output PDF file path"
   ]
  },
  {
   "cell_type": "code",
   "execution_count": 3,
   "metadata": {},
   "outputs": [],
   "source": [
    "# def get_markdown_files(directory):\n",
    "#     \"\"\"Get a list of all markdown files in the specified directory.\"\"\"\n",
    "#     return [os.path.join(directory, f) for f in os.listdir(directory) if f.endswith('.md')]\n",
    "\n",
    "\n",
    "# def concatenate_mark_files(files):\n",
    "#     \"\"\"Concatenate the content of all markdown files into a single string.\"\"\"\n",
    "#     content = \"\"\n",
    "#     for file in files:\n",
    "#         with open(file, 'r', encoding='utf-8') as f:\n",
    "#             content += f.read() + \"\\n\\n\"\n",
    "#     return content\n",
    "\n",
    "\n",
    "# def convert_markdown_to_pdf(markdown_content, output_file):\n",
    "#     \"\"\"Convert markdown content to a PDF file.\"\"\"\n",
    "#     pypandoc.convert_text(markdown_content, 'pdf',\n",
    "#                           format='md', outputfile=output_file)"
   ]
  },
  {
   "cell_type": "code",
   "execution_count": 4,
   "metadata": {},
   "outputs": [],
   "source": [
    "# Get the list of markdown files\n",
    "markdown_files = get_markdown_files(chapters_dir)"
   ]
  },
  {
   "cell_type": "code",
   "execution_count": 5,
   "metadata": {},
   "outputs": [],
   "source": [
    "# Concatenate the content of all markdown files\n",
    "markdown_content = concatenate_mark_files(markdown_files)"
   ]
  },
  {
   "cell_type": "code",
   "execution_count": 7,
   "metadata": {},
   "outputs": [],
   "source": [
    "# Convert the concatenated markdown content to a PDF file\n",
    "convert_markdown_to_pdf(markdown_content, output_pdf)\n",
    "\n",
    "print(f\"PDF created successfully: {output_pdf}\")"
   ]
  },
  {
   "cell_type": "code",
   "execution_count": null,
   "metadata": {},
   "outputs": [],
   "source": [
    "import os\n",
    "from markdown2 import markdown\n",
    "from markdown_pdf import MarkdownPdf\n",
    "\n",
    "\n",
    "def get_markdown_files(directory):\n",
    "    \"\"\"Get a list of all markdown files in the specified directory.\"\"\"\n",
    "    return [os.path.join(directory, f) for f in os.listdir(directory) if f.endswith('.md')]\n",
    "\n",
    "\n",
    "def concatenate_mark_files(files):\n",
    "    \"\"\"Concatenate the content of all markdown files into a single string.\"\"\"\n",
    "    content = \"\"\n",
    "    for file in files:\n",
    "        with open(file, 'r', encoding='utf-8') as f:\n",
    "            content += f.read() + \"\\n\\n\"\n",
    "    return content\n",
    "\n",
    "\n",
    "def convert_markdown_to_pdf(markdown_content, output_file):\n",
    "    \"\"\"Convert markdown content to a PDF file.\"\"\"\n",
    "    try:\n",
    "        # Convert markdown to HTML\n",
    "        html_content = markdown(markdown_content)\n",
    "\n",
    "        # Convert HTML to PDF\n",
    "        pdf = MarkdownPdf()\n",
    "        pdf.from_string(html_content, output_file)\n",
    "\n",
    "        print(f\"PDF created successfully: {output_file}\")\n",
    "    except Exception as e:\n",
    "        print(f\"Error: {e}\")\n",
    "\n",
    "\n",
    "# Define the input and output paths\n",
    "# Directory containing markdown files\n",
    "chapters_dir = 'D:/OneDrive/1_Consulting/Conservation Finance/confi/chapters'\n",
    "output_pdf = 'C:/Users/vance/Downloads/output.pdf'  # Output PDF file path\n",
    "\n",
    "# Get the list of markdown files\n",
    "markdown_files = get_markdown_files(chapters_dir)\n",
    "\n",
    "# Concatenate the content of all markdown files\n",
    "markdown_content = concatenate_mark_files(markdown_files)\n",
    "\n",
    "# Convert the concatenated markdown content to a PDF file\n",
    "convert_markdown_to_pdf(markdown_content, output_pdf)"
   ]
  }
 ],
 "metadata": {
  "kernelspec": {
   "display_name": "spatial",
   "language": "python",
   "name": "python3"
  },
  "language_info": {
   "codemirror_mode": {
    "name": "ipython",
    "version": 3
   },
   "file_extension": ".py",
   "mimetype": "text/x-python",
   "name": "python",
   "nbconvert_exporter": "python",
   "pygments_lexer": "ipython3",
   "version": "3.12.4"
  }
 },
 "nbformat": 4,
 "nbformat_minor": 2
}
