{
 "cells": [
  {
   "cell_type": "code",
   "execution_count": 1,
   "metadata": {},
   "outputs": [],
   "source": [
    "import os\n",
    "import pypandoc"
   ]
  },
  {
   "cell_type": "code",
   "execution_count": 2,
   "metadata": {},
   "outputs": [],
   "source": [
    "# Define the input and output paths\n",
    "# Directory containing markdown files\n",
    "chapters_dir = 'D:/OneDrive/1_Consulting/Conservation Finance/confi/chapters'\n",
    "output_pdf = 'C:/Users/vance/Downloads/output.pdf'  # Output PDF file path"
   ]
  },
  {
   "cell_type": "code",
   "execution_count": 3,
   "metadata": {},
   "outputs": [],
   "source": [
    "def get_markdown_files(directory):\n",
    "    \"\"\"Get a list of all markdown files in the specified directory.\"\"\"\n",
    "    return [os.path.join(directory, f) for f in os.listdir(directory) if f.endswith('.md')]\n",
    "\n",
    "\n",
    "def concatenate_mark_files(files):\n",
    "    \"\"\"Concatenate the content of all markdown files into a single string.\"\"\"\n",
    "    content = \"\"\n",
    "    for file in files:\n",
    "        with open(file, 'r', encoding='utf-8') as f:\n",
    "            content += f.read() + \"\\n\\n\"\n",
    "    return content\n",
    "\n",
    "\n",
    "def convert_markdown_to_pdf(markdown_content, output_file):\n",
    "    \"\"\"Convert markdown content to a PDF file.\"\"\"\n",
    "    pypandoc.convert_text(markdown_content, 'pdf',\n",
    "                          format='md', outputfile=output_file)"
   ]
  },
  {
   "cell_type": "code",
   "execution_count": 4,
   "metadata": {},
   "outputs": [],
   "source": [
    "# Get the list of markdown files\n",
    "markdown_files = get_markdown_files(chapters_dir)"
   ]
  },
  {
   "cell_type": "code",
   "execution_count": 5,
   "metadata": {},
   "outputs": [],
   "source": [
    "# Concatenate the content of all markdown files\n",
    "markdown_content = concatenate_mark_files(markdown_files)"
   ]
  },
  {
   "cell_type": "code",
   "execution_count": 6,
   "metadata": {},
   "outputs": [
    {
     "ename": "RuntimeError",
     "evalue": "Pandoc died with exitcode \"64\" during conversion: YAML parse exception at line 2, column 4:\r\nmapping values are not allowed in this context\r\n",
     "output_type": "error",
     "traceback": [
      "\u001b[1;31m---------------------------------------------------------------------------\u001b[0m",
      "\u001b[1;31mRuntimeError\u001b[0m                              Traceback (most recent call last)",
      "Cell \u001b[1;32mIn[6], line 2\u001b[0m\n\u001b[0;32m      1\u001b[0m \u001b[38;5;66;03m# Convert the concatenated markdown content to a PDF file\u001b[39;00m\n\u001b[1;32m----> 2\u001b[0m \u001b[43mconvert_markdown_to_pdf\u001b[49m\u001b[43m(\u001b[49m\u001b[43mmarkdown_content\u001b[49m\u001b[43m,\u001b[49m\u001b[43m \u001b[49m\u001b[43moutput_pdf\u001b[49m\u001b[43m)\u001b[49m\n\u001b[0;32m      4\u001b[0m \u001b[38;5;28mprint\u001b[39m(\u001b[38;5;124mf\u001b[39m\u001b[38;5;124m\"\u001b[39m\u001b[38;5;124mPDF created successfully: \u001b[39m\u001b[38;5;132;01m{\u001b[39;00moutput_pdf\u001b[38;5;132;01m}\u001b[39;00m\u001b[38;5;124m\"\u001b[39m)\n",
      "Cell \u001b[1;32mIn[3], line 17\u001b[0m, in \u001b[0;36mconvert_markdown_to_pdf\u001b[1;34m(markdown_content, output_file)\u001b[0m\n\u001b[0;32m     15\u001b[0m \u001b[38;5;28;01mdef\u001b[39;00m \u001b[38;5;21mconvert_markdown_to_pdf\u001b[39m(markdown_content, output_file):\n\u001b[0;32m     16\u001b[0m \u001b[38;5;250m    \u001b[39m\u001b[38;5;124;03m\"\"\"Convert markdown content to a PDF file.\"\"\"\u001b[39;00m\n\u001b[1;32m---> 17\u001b[0m     \u001b[43mpypandoc\u001b[49m\u001b[38;5;241;43m.\u001b[39;49m\u001b[43mconvert_text\u001b[49m\u001b[43m(\u001b[49m\u001b[43mmarkdown_content\u001b[49m\u001b[43m,\u001b[49m\u001b[43m \u001b[49m\u001b[38;5;124;43m'\u001b[39;49m\u001b[38;5;124;43mpdf\u001b[39;49m\u001b[38;5;124;43m'\u001b[39;49m\u001b[43m,\u001b[49m\n\u001b[0;32m     18\u001b[0m \u001b[43m                          \u001b[49m\u001b[38;5;28;43mformat\u001b[39;49m\u001b[38;5;241;43m=\u001b[39;49m\u001b[38;5;124;43m'\u001b[39;49m\u001b[38;5;124;43mmd\u001b[39;49m\u001b[38;5;124;43m'\u001b[39;49m\u001b[43m,\u001b[49m\u001b[43m \u001b[49m\u001b[43moutputfile\u001b[49m\u001b[38;5;241;43m=\u001b[39;49m\u001b[43moutput_file\u001b[49m\u001b[43m)\u001b[49m\n",
      "File \u001b[1;32m~\\.conda\\envs\\spatial\\Lib\\site-packages\\pypandoc\\__init__.py:92\u001b[0m, in \u001b[0;36mconvert_text\u001b[1;34m(source, to, format, extra_args, encoding, outputfile, filters, verify_format, sandbox, cworkdir)\u001b[0m\n\u001b[0;32m     58\u001b[0m \u001b[38;5;250m\u001b[39m\u001b[38;5;124;03m\"\"\"Converts given `source` from `format` to `to`.\u001b[39;00m\n\u001b[0;32m     59\u001b[0m \n\u001b[0;32m     60\u001b[0m \u001b[38;5;124;03m:param str source: Unicode string or bytes (see encoding)\u001b[39;00m\n\u001b[1;32m   (...)\u001b[0m\n\u001b[0;32m     89\u001b[0m \u001b[38;5;124;03m        path.\u001b[39;00m\n\u001b[0;32m     90\u001b[0m \u001b[38;5;124;03m\"\"\"\u001b[39;00m\n\u001b[0;32m     91\u001b[0m source \u001b[38;5;241m=\u001b[39m _as_unicode(source, encoding)\n\u001b[1;32m---> 92\u001b[0m \u001b[38;5;28;01mreturn\u001b[39;00m \u001b[43m_convert_input\u001b[49m\u001b[43m(\u001b[49m\u001b[43msource\u001b[49m\u001b[43m,\u001b[49m\u001b[43m \u001b[49m\u001b[38;5;28;43mformat\u001b[39;49m\u001b[43m,\u001b[49m\u001b[43m \u001b[49m\u001b[38;5;124;43m'\u001b[39;49m\u001b[38;5;124;43mstring\u001b[39;49m\u001b[38;5;124;43m'\u001b[39;49m\u001b[43m,\u001b[49m\u001b[43m \u001b[49m\u001b[43mto\u001b[49m\u001b[43m,\u001b[49m\u001b[43m \u001b[49m\u001b[43mextra_args\u001b[49m\u001b[38;5;241;43m=\u001b[39;49m\u001b[43mextra_args\u001b[49m\u001b[43m,\u001b[49m\n\u001b[0;32m     93\u001b[0m \u001b[43m                      \u001b[49m\u001b[43moutputfile\u001b[49m\u001b[38;5;241;43m=\u001b[39;49m\u001b[43moutputfile\u001b[49m\u001b[43m,\u001b[49m\u001b[43m \u001b[49m\u001b[43mfilters\u001b[49m\u001b[38;5;241;43m=\u001b[39;49m\u001b[43mfilters\u001b[49m\u001b[43m,\u001b[49m\n\u001b[0;32m     94\u001b[0m \u001b[43m                      \u001b[49m\u001b[43mverify_format\u001b[49m\u001b[38;5;241;43m=\u001b[39;49m\u001b[43mverify_format\u001b[49m\u001b[43m,\u001b[49m\u001b[43m \u001b[49m\u001b[43msandbox\u001b[49m\u001b[38;5;241;43m=\u001b[39;49m\u001b[43msandbox\u001b[49m\u001b[43m,\u001b[49m\n\u001b[0;32m     95\u001b[0m \u001b[43m                      \u001b[49m\u001b[43mcworkdir\u001b[49m\u001b[38;5;241;43m=\u001b[39;49m\u001b[43mcworkdir\u001b[49m\u001b[43m)\u001b[49m\n",
      "File \u001b[1;32m~\\.conda\\envs\\spatial\\Lib\\site-packages\\pypandoc\\__init__.py:467\u001b[0m, in \u001b[0;36m_convert_input\u001b[1;34m(source, format, input_type, to, extra_args, outputfile, filters, verify_format, sandbox, cworkdir)\u001b[0m\n\u001b[0;32m    465\u001b[0m \u001b[38;5;66;03m# check that pandoc returned successfully\u001b[39;00m\n\u001b[0;32m    466\u001b[0m \u001b[38;5;28;01mif\u001b[39;00m p\u001b[38;5;241m.\u001b[39mreturncode \u001b[38;5;241m!=\u001b[39m \u001b[38;5;241m0\u001b[39m:\n\u001b[1;32m--> 467\u001b[0m     \u001b[38;5;28;01mraise\u001b[39;00m \u001b[38;5;167;01mRuntimeError\u001b[39;00m(\n\u001b[0;32m    468\u001b[0m         \u001b[38;5;124m'\u001b[39m\u001b[38;5;124mPandoc died with exitcode \u001b[39m\u001b[38;5;124m\"\u001b[39m\u001b[38;5;132;01m%s\u001b[39;00m\u001b[38;5;124m\"\u001b[39m\u001b[38;5;124m during conversion: \u001b[39m\u001b[38;5;132;01m%s\u001b[39;00m\u001b[38;5;124m'\u001b[39m \u001b[38;5;241m%\u001b[39m (p\u001b[38;5;241m.\u001b[39mreturncode, stderr)\n\u001b[0;32m    469\u001b[0m     )\n\u001b[0;32m    471\u001b[0m \u001b[38;5;66;03m# if there is output on stderr, process it and send to logger\u001b[39;00m\n\u001b[0;32m    472\u001b[0m \u001b[38;5;28;01mif\u001b[39;00m stderr:\n",
      "\u001b[1;31mRuntimeError\u001b[0m: Pandoc died with exitcode \"64\" during conversion: YAML parse exception at line 2, column 4:\r\nmapping values are not allowed in this context\r\n"
     ]
    }
   ],
   "source": [
    "# Convert the concatenated markdown content to a PDF file\n",
    "convert_markdown_to_pdf(markdown_content, output_pdf)\n",
    "\n",
    "print(f\"PDF created successfully: {output_pdf}\")"
   ]
  },
  {
   "cell_type": "code",
   "execution_count": null,
   "metadata": {},
   "outputs": [],
   "source": [
    "import os\n",
    "from markdown2 import markdown\n",
    "from markdown_pdf import MarkdownPdf\n",
    "\n",
    "\n",
    "def get_markdown_files(directory):\n",
    "    \"\"\"Get a list of all markdown files in the specified directory.\"\"\"\n",
    "    return [os.path.join(directory, f) for f in os.listdir(directory) if f.endswith('.md')]\n",
    "\n",
    "\n",
    "def concatenate_mark_files(files):\n",
    "    \"\"\"Concatenate the content of all markdown files into a single string.\"\"\"\n",
    "    content = \"\"\n",
    "    for file in files:\n",
    "        with open(file, 'r', encoding='utf-8') as f:\n",
    "            content += f.read() + \"\\n\\n\"\n",
    "    return content\n",
    "\n",
    "\n",
    "def convert_markdown_to_pdf(markdown_content, output_file):\n",
    "    \"\"\"Convert markdown content to a PDF file.\"\"\"\n",
    "    try:\n",
    "        # Convert markdown to HTML\n",
    "        html_content = markdown(markdown_content)\n",
    "\n",
    "        # Convert HTML to PDF\n",
    "        pdf = MarkdownPdf()\n",
    "        pdf.from_string(html_content, output_file)\n",
    "\n",
    "        print(f\"PDF created successfully: {output_file}\")\n",
    "    except Exception as e:\n",
    "        print(f\"Error: {e}\")\n",
    "\n",
    "\n",
    "# Define the input and output paths\n",
    "# Directory containing markdown files\n",
    "chapters_dir = 'D:/OneDrive/1_Consulting/Conservation Finance/confi/chapters'\n",
    "output_pdf = 'C:/Users/vance/Downloads/output.pdf'  # Output PDF file path\n",
    "\n",
    "# Get the list of markdown files\n",
    "markdown_files = get_markdown_files(chapters_dir)\n",
    "\n",
    "# Concatenate the content of all markdown files\n",
    "markdown_content = concatenate_mark_files(markdown_files)\n",
    "\n",
    "# Convert the concatenated markdown content to a PDF file\n",
    "convert_markdown_to_pdf(markdown_content, output_pdf)"
   ]
  }
 ],
 "metadata": {
  "kernelspec": {
   "display_name": "spatial",
   "language": "python",
   "name": "python3"
  },
  "language_info": {
   "codemirror_mode": {
    "name": "ipython",
    "version": 3
   },
   "file_extension": ".py",
   "mimetype": "text/x-python",
   "name": "python",
   "nbconvert_exporter": "python",
   "pygments_lexer": "ipython3",
   "version": "3.12.4"
  }
 },
 "nbformat": 4,
 "nbformat_minor": 2
}